{
 "cells": [
  {
   "cell_type": "markdown",
   "metadata": {},
   "source": [
    "<img src=\"./logo_UTN.svg\" align=\"right\" width=\"150\" /> \n",
    "#### Teoría de Circuitos II\n",
    "\n",
    "# Teoría de Filtrado Moderna: Cross-over y pasabanda a partir de prototipo Bessel\n",
    "#### Dr. Ing. Mariano Llamedo Soria\n",
    "Grupo de Investigación en Bioingeniería (GIBIO)\n"
   ]
  },
  {
   "cell_type": "markdown",
   "metadata": {},
   "source": [
    "En el siguiente documento se presenta una comparativa de las funciones de aproximación estudiadas en Teoría de Filtrado Moderna, en la asignatura Teoría de Circuitos 2:\n",
    "\n",
    "* Butterworth\n",
    "* Chebyshev\n",
    "* Bessel\n",
    "* Cauer\n",
    "\n",
    "El script siguiente permite parametrizar el orden de los polinomios de cada función. Como resultado se obtiene:\n",
    "\n",
    "* Respuesta de módulo, fase y retardo de grupo\n",
    "* Diagrama de polos y ceros\n",
    "\n"
   ]
  },
  {
   "cell_type": "code",
   "execution_count": 4,
   "metadata": {},
   "outputs": [],
   "source": [
    "%matplotlib inline  \n",
    "\n",
    "import scipy.signal as sig\n",
    "import matplotlib as mpl\n",
    "from splane import tfadd, tfcascade, analyze_sys, pzmap, grpDelay, bodePlot, pretty_print_lti, print_subtitle\n",
    "import numpy as np\n",
    "\n",
    "mpl.rcParams['figure.figsize'] = (15,15)\n",
    "    "
   ]
  },
  {
   "cell_type": "code",
   "execution_count": 5,
   "metadata": {
    "scrolled": false
   },
   "outputs": [
    {
     "data": {
      "text/markdown": [
       "#### Pasabajo"
      ],
      "text/plain": [
       "<IPython.core.display.Markdown object>"
      ]
     },
     "metadata": {},
     "output_type": "display_data"
    },
    {
     "ename": "NameError",
     "evalue": "name 'lp_sys' is not defined",
     "output_type": "error",
     "traceback": [
      "\u001b[1;31m---------------------------------------------------------------------------\u001b[0m",
      "\u001b[1;31mNameError\u001b[0m                                 Traceback (most recent call last)",
      "\u001b[1;32m<ipython-input-5-1286ec0dc6e7>\u001b[0m in \u001b[0;36m<module>\u001b[1;34m\u001b[0m\n\u001b[0;32m      1\u001b[0m \u001b[0mprint_subtitle\u001b[0m\u001b[1;33m(\u001b[0m\u001b[1;34m'Pasabajo'\u001b[0m\u001b[1;33m)\u001b[0m\u001b[1;33m\u001b[0m\u001b[1;33m\u001b[0m\u001b[0m\n\u001b[1;32m----> 2\u001b[1;33m \u001b[0mpretty_print_lti\u001b[0m\u001b[1;33m(\u001b[0m\u001b[0mlp_sys\u001b[0m\u001b[1;33m)\u001b[0m\u001b[1;33m\u001b[0m\u001b[1;33m\u001b[0m\u001b[0m\n\u001b[0m\u001b[0;32m      3\u001b[0m \u001b[1;33m\u001b[0m\u001b[0m\n\u001b[0;32m      4\u001b[0m \u001b[0mprint_subtitle\u001b[0m\u001b[1;33m(\u001b[0m\u001b[1;34m'Pasa-alto'\u001b[0m\u001b[1;33m)\u001b[0m\u001b[1;33m\u001b[0m\u001b[1;33m\u001b[0m\u001b[0m\n\u001b[0;32m      5\u001b[0m \u001b[0mpretty_print_lti\u001b[0m\u001b[1;33m(\u001b[0m\u001b[0mhp_sys\u001b[0m\u001b[1;33m)\u001b[0m\u001b[1;33m\u001b[0m\u001b[1;33m\u001b[0m\u001b[0m\n",
      "\u001b[1;31mNameError\u001b[0m: name 'lp_sys' is not defined"
     ]
    }
   ],
   "source": [
    "print_subtitle('Pasabajo')\n",
    "pretty_print_lti(lp_sys)\n",
    "\n",
    "print_subtitle('Pasa-alto')\n",
    "pretty_print_lti(hp_sys)\n",
    "\n",
    "print_subtitle('Pasabanda')\n",
    "pretty_print_lti(bandpass)\n",
    "\n",
    "analyze_sys([lp_sys, hp_sys, bandpass], ['lp', 'hp', 'bandpass'])\n"
   ]
  },
  {
   "cell_type": "code",
   "execution_count": null,
   "metadata": {},
   "outputs": [],
   "source": []
  },
  {
   "cell_type": "code",
   "execution_count": null,
   "metadata": {},
   "outputs": [],
   "source": []
  }
 ],
 "metadata": {
  "kernelspec": {
   "display_name": "Python 3",
   "language": "python",
   "name": "python3"
  },
  "language_info": {
   "codemirror_mode": {
    "name": "ipython",
    "version": 3
   },
   "file_extension": ".py",
   "mimetype": "text/x-python",
   "name": "python",
   "nbconvert_exporter": "python",
   "pygments_lexer": "ipython3",
   "version": "3.7.6"
  }
 },
 "nbformat": 4,
 "nbformat_minor": 2
}
